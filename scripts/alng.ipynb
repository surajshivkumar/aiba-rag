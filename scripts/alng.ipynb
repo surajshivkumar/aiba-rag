{
 "cells": [
  {
   "cell_type": "code",
   "execution_count": 1,
   "metadata": {},
   "outputs": [
    {
     "name": "stderr",
     "output_type": "stream",
     "text": [
      "USER_AGENT environment variable not set, consider setting it to identify your requests.\n"
     ]
    }
   ],
   "source": [
    "import bs4\n",
    "import os\n",
    "from langchain import hub\n",
    "from langchain.text_splitter import RecursiveCharacterTextSplitter\n",
    "from langchain_community.document_loaders import WebBaseLoader,TextLoader,JSONLoader\n",
    "from langchain_community.vectorstores import Chroma\n",
    "from langchain_core.output_parsers import StrOutputParser\n",
    "from langchain_core.runnables import RunnablePassthrough\n",
    "from langchain_openai import ChatOpenAI, OpenAIEmbeddings"
   ]
  },
  {
   "cell_type": "code",
   "execution_count": 6,
   "metadata": {},
   "outputs": [],
   "source": [
    "from dotenv import load_dotenv\n",
    "import os"
   ]
  },
  {
   "cell_type": "code",
   "execution_count": 9,
   "metadata": {},
   "outputs": [],
   "source": [
    "load_dotenv()\n",
    "api_key = os.environ['OPENAI_API_KEY']"
   ]
  },
  {
   "cell_type": "code",
   "execution_count": 12,
   "metadata": {},
   "outputs": [],
   "source": [
    "def load_processed_files(directory: str):\n",
    "    documents = []\n",
    "    for filename in os.listdir(directory):\n",
    "        if filename.endswith('.json'):\n",
    "            file_path = os.path.join(directory, filename)\n",
    "            \n",
    "            # Define a custom jq schema to extract both content and metadata\n",
    "            jq_schema = '.chunks[] | {content: .content, metadata: .metadata}'\n",
    "            \n",
    "            loader = JSONLoader(\n",
    "    file_path=file_path,\n",
    "    jq_schema=jq_schema,\n",
    "    content_key=\"content\",\n",
    "    metadata_func=lambda metadata, _: {**metadata, \"source\": file_path}  # Add the second argument\n",
    ")\n",
    "            \n",
    "            documents.extend(loader.load())\n",
    "    \n",
    "    return documents\n",
    "loaded_documents = load_processed_files('../pages/json')"
   ]
  },
  {
   "cell_type": "code",
   "execution_count": 13,
   "metadata": {},
   "outputs": [],
   "source": [
    "from langchain.schema import Document \n",
    "text_splitter = RecursiveCharacterTextSplitter(chunk_size=1000, chunk_overlap=200)\n",
    "\n",
    "# Container for split documents\n",
    "split_documents = []\n",
    "\n",
    "# Loop through each loaded document\n",
    "for doc in loaded_documents:\n",
    "    # Extract content and metadata\n",
    "    content = doc.page_content\n",
    "    metadata = doc.metadata\n",
    "\n",
    "    \n",
    "    # Split the content\n",
    "    split_content = text_splitter.split_text(content)\n",
    "    \n",
    "    # Re-associate each split with the original metadata\n",
    "    for split in split_content:\n",
    "        split_documents.append({\n",
    "            'page_content': split,\n",
    "            'metadata': metadata  # Keep the same metadata for each chunk\n",
    "        })\n",
    "def flatten_metadata(metadata):\n",
    "    # Flatten metadata by joining key-value pairs into a single string\n",
    "    return {key: str(value) if isinstance(value, dict) else value for key, value in metadata.items()}\n",
    "\n",
    "# Convert split_documents (which are dictionaries) into Document objects with flattened metadata\n",
    "documents_as_objects = [\n",
    "    Document(\n",
    "        page_content=doc['page_content'], \n",
    "        metadata=flatten_metadata(doc['metadata'])  # Flatten the metadata\n",
    "    )\n",
    "    for doc in split_documents\n",
    "]"
   ]
  },
  {
   "cell_type": "code",
   "execution_count": 14,
   "metadata": {},
   "outputs": [],
   "source": [
    "vectorstore = Chroma.from_documents(documents=documents_as_objects, \n",
    "                                    embedding=OpenAIEmbeddings())\n",
    "\n",
    "retriever = vectorstore.as_retriever()"
   ]
  },
  {
   "cell_type": "code",
   "execution_count": 15,
   "metadata": {},
   "outputs": [
    {
     "name": "stderr",
     "output_type": "stream",
     "text": [
      "c:\\Users\\sudhe\\Desktop\\Projects\\Chatbot\\langchain_env\\Lib\\site-packages\\langsmith\\client.py:241: LangSmithMissingAPIKeyWarning: API key must be provided when using hosted LangSmith API\n",
      "  warnings.warn(\n"
     ]
    }
   ],
   "source": [
    "prompt = hub.pull(\"rlm/rag-prompt\")"
   ]
  },
  {
   "cell_type": "code",
   "execution_count": 16,
   "metadata": {},
   "outputs": [
    {
     "ename": "SyntaxError",
     "evalue": "invalid syntax (3610404506.py, line 1)",
     "output_type": "error",
     "traceback": [
      "\u001b[1;36m  Cell \u001b[1;32mIn[16], line 1\u001b[1;36m\u001b[0m\n\u001b[1;33m    prompt.format_prompt(```You are a helpful assistant who provides detailed and accurate information.\u001b[0m\n\u001b[1;37m                         ^\u001b[0m\n\u001b[1;31mSyntaxError\u001b[0m\u001b[1;31m:\u001b[0m invalid syntax\n"
     ]
    }
   ],
   "source": [
    "prompt.format_prompt(```You are a helpful assistant who provides detailed and accurate information.\n",
    "Context: {context}\n",
    "Question: {question}\n",
    "Answer:``)"
   ]
  },
  {
   "cell_type": "code",
   "execution_count": 17,
   "metadata": {},
   "outputs": [],
   "source": [
    "llm = ChatOpenAI(model_name=\"gpt-3.5-turbo\", temperature=0)"
   ]
  },
  {
   "cell_type": "code",
   "execution_count": 18,
   "metadata": {},
   "outputs": [],
   "source": [
    "def format_docs(docs):\n",
    "    return \"\\n\\n\".join(doc.page_content for doc in docs)\n",
    "\n",
    "# Chain\n",
    "rag_chain = (\n",
    "    {\"context\": retriever | format_docs, \"question\": RunnablePassthrough()}\n",
    "    | prompt\n",
    "    | llm\n",
    "    | StrOutputParser()\n",
    ")\n",
    "\n",
    "# Question\n",
    "response = rag_chain.invoke(\"Where is USF located?\")"
   ]
  },
  {
   "cell_type": "code",
   "execution_count": 19,
   "metadata": {},
   "outputs": [
    {
     "data": {
      "text/plain": [
       "'USF is located in the vibrant and diverse Tampa Bay region, with campuses in Tampa, St. Petersburg, and Sarasota-Manatee. The campuses comprise more than 1,600 acres and nearly 12 million square feet of building space, with areas boasting coastal, bayfront, and riverfront views.'"
      ]
     },
     "execution_count": 19,
     "metadata": {},
     "output_type": "execute_result"
    }
   ],
   "source": [
    "response"
   ]
  },
  {
   "cell_type": "code",
   "execution_count": null,
   "metadata": {},
   "outputs": [],
   "source": []
  }
 ],
 "metadata": {
  "kernelspec": {
   "display_name": "langchain_env",
   "language": "python",
   "name": "python3"
  },
  "language_info": {
   "codemirror_mode": {
    "name": "ipython",
    "version": 3
   },
   "file_extension": ".py",
   "mimetype": "text/x-python",
   "name": "python",
   "nbconvert_exporter": "python",
   "pygments_lexer": "ipython3",
   "version": "3.11.0"
  }
 },
 "nbformat": 4,
 "nbformat_minor": 2
}
